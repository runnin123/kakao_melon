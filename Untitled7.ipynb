{
  "nbformat": 4,
  "nbformat_minor": 0,
  "metadata": {
    "colab": {
      "name": "Untitled7.ipynb",
      "provenance": [],
      "private_outputs": true,
      "machine_shape": "hm",
      "mount_file_id": "1TKlagJhXGsTNa3hygIe9zYNFefdz5u8I",
      "authorship_tag": "ABX9TyM+pSI2xvaiDTIppNwUHHwm",
      "include_colab_link": true
    },
    "kernelspec": {
      "name": "python3",
      "display_name": "Python 3"
    },
    "accelerator": "TPU"
  },
  "cells": [
    {
      "cell_type": "markdown",
      "metadata": {
        "id": "view-in-github",
        "colab_type": "text"
      },
      "source": [
        "<a href=\"https://colab.research.google.com/github/runnin123/kakao_melon/blob/master/Untitled7.ipynb\" target=\"_parent\"><img src=\"https://colab.research.google.com/assets/colab-badge.svg\" alt=\"Open In Colab\"/></a>"
      ]
    },
    {
      "cell_type": "code",
      "metadata": {
        "id": "rcql1KP7-_xh",
        "colab_type": "code",
        "colab": {}
      },
      "source": [
        "!git clone https://github.com/runnin123/kakao_melon.git"
      ],
      "execution_count": null,
      "outputs": []
    },
    {
      "cell_type": "code",
      "metadata": {
        "id": "pspw3zjI_IMA",
        "colab_type": "code",
        "colab": {}
      },
      "source": [
        "!ls -ltr"
      ],
      "execution_count": null,
      "outputs": []
    },
    {
      "cell_type": "code",
      "metadata": {
        "id": "uPpKoHaLwv8u",
        "colab_type": "code",
        "colab": {}
      },
      "source": [
        "import numpy as np\n",
        "from tempfile import mkdtemp\n",
        "import os\n",
        "import json"
      ],
      "execution_count": null,
      "outputs": []
    },
    {
      "cell_type": "code",
      "metadata": {
        "id": "uts5aUohxGdl",
        "colab_type": "code",
        "colab": {}
      },
      "source": [
        "def make_path(file_name, directory = '', is_make_temp_dir = False):\n",
        "  # 디렉토리 + 파일명 = 경로\n",
        "  if is_make_temp_dir is True:\n",
        "    directory = mkdtemp()\n",
        "  if len(directory) >= 2 and not os.path.exists(directory):\n",
        "    os.makedirs(directory)\n",
        "  return os.path.join(directory, file_name)\n",
        "\n",
        "def make_memmap(mem_file_name, np_to_copy):\n",
        "  # numpy.ndarray 이용, numpy.memmap 객체 생성\n",
        "  memmap_configs = dict()\n",
        "  memmap_configs['shape'] = shape = tuple(np_to_copy.shape)\n",
        "  memmap_configs['dtype'] = dtype = str(np_to_copy.dtype)\n",
        "  json.dump(memmap_configs, open(mem_file_name + '.conf', 'w'))\n",
        "  mm = np.memmap(mem_file_name, mode = 'w+', shape = shape, dtype = dtype)\n",
        "  mm[:] = np_to_copy[:]\n",
        "  return mm\n",
        "\n",
        "def read_memmap(mem_file_name):\n",
        "  with open(mem_file_name+'.conf', 'r') as file:\n",
        "    memmap_configs = json.load(file)\n",
        "    return np.memmap(mem_file_name, mode = 'r+', \\\n",
        "                     shape = tuple(memmap_configs['shape']), \\\n",
        "                     dtype = memmap_configs['dtype'])"
      ],
      "execution_count": null,
      "outputs": []
    },
    {
      "cell_type": "code",
      "metadata": {
        "id": "xCmTOzHVwyFs",
        "colab_type": "code",
        "colab": {}
      },
      "source": [
        "mem_file_name = make_path('test0200.dat', directory = '/content/drive/My Drive/Colab Notebooks/kakao')\n",
        "new_cos0200 = read_memmap(mem_file_name)"
      ],
      "execution_count": null,
      "outputs": []
    },
    {
      "cell_type": "code",
      "metadata": {
        "id": "s5KH61QnxDzj",
        "colab_type": "code",
        "colab": {}
      },
      "source": [
        "new_cos0200"
      ],
      "execution_count": null,
      "outputs": []
    },
    {
      "cell_type": "code",
      "metadata": {
        "id": "fA9fgCaRxI7D",
        "colab_type": "code",
        "colab": {}
      },
      "source": [
        "# len(new_cos0100)"
      ],
      "execution_count": null,
      "outputs": []
    },
    {
      "cell_type": "code",
      "metadata": {
        "id": "aBaJSVrcxK7S",
        "colab_type": "code",
        "colab": {}
      },
      "source": [
        "# %matplotlib inline\n",
        "# import pandas as pd\n",
        "# import numpy as np\n",
        "# import re\n",
        "# import matplotlib.pyplot as plt\n",
        "# from scipy import stats\n",
        "# from sklearn.feature_extraction.text import TfidfVectorizer, CountVectorizer\n",
        "# from sklearn.metrics.pairwise import linear_kernel, cosine_similarity"
      ],
      "execution_count": null,
      "outputs": []
    },
    {
      "cell_type": "code",
      "metadata": {
        "id": "nEhj_a0Nyrol",
        "colab_type": "code",
        "colab": {}
      },
      "source": [
        "# song_meta = pd.read_json('/content/drive/My Drive/Colab Notebooks/song_meta.json',typ = 'frame')"
      ],
      "execution_count": null,
      "outputs": []
    },
    {
      "cell_type": "code",
      "metadata": {
        "id": "dq2DR0DExvh_",
        "colab_type": "code",
        "colab": {}
      },
      "source": [
        "# def gnrcode(song_id) :\n",
        "#     gnr_code = song_meta[song_meta['id'] == song_id]['song_gn_gnr_basket']\n",
        "#     return gnr_code"
      ],
      "execution_count": null,
      "outputs": []
    },
    {
      "cell_type": "code",
      "metadata": {
        "id": "CwEN1WQdynlE",
        "colab_type": "code",
        "colab": {}
      },
      "source": [
        "# gnr = np.array(gnrcode(144663))"
      ],
      "execution_count": null,
      "outputs": []
    },
    {
      "cell_type": "code",
      "metadata": {
        "id": "4qBw545EzFTV",
        "colab_type": "code",
        "colab": {}
      },
      "source": [
        "# gnr_arr = gnr[0]\n",
        "# gnr_arr"
      ],
      "execution_count": null,
      "outputs": []
    },
    {
      "cell_type": "code",
      "metadata": {
        "id": "HIbXeX3tx1n9",
        "colab_type": "code",
        "colab": {}
      },
      "source": [
        "# cosine_sim = new_cos0100"
      ],
      "execution_count": null,
      "outputs": []
    },
    {
      "cell_type": "code",
      "metadata": {
        "id": "2vRxhzYyzHnJ",
        "colab_type": "code",
        "colab": {}
      },
      "source": [
        "# cosine_sim = cosine(gnr_arr[0])"
      ],
      "execution_count": null,
      "outputs": []
    },
    {
      "cell_type": "code",
      "metadata": {
        "id": "vJ_XZ5Y2zdL3",
        "colab_type": "code",
        "colab": {}
      },
      "source": [
        "# cosine_sim"
      ],
      "execution_count": null,
      "outputs": []
    },
    {
      "cell_type": "code",
      "metadata": {
        "id": "WK5iAYUMx_7B",
        "colab_type": "code",
        "colab": {}
      },
      "source": [
        "# test = pd.read_json('/content/drive/My Drive/Colab Notebooks/kakao/desc_gn/des_gn0100_start2.json',orient = 'table')"
      ],
      "execution_count": null,
      "outputs": []
    },
    {
      "cell_type": "code",
      "metadata": {
        "id": "u1P_pmp6yHcS",
        "colab_type": "code",
        "colab": {}
      },
      "source": [
        "# test = test.reset_index()"
      ],
      "execution_count": null,
      "outputs": []
    },
    {
      "cell_type": "code",
      "metadata": {
        "id": "c0s2IrH8yYgW",
        "colab_type": "code",
        "colab": {}
      },
      "source": [
        "# test"
      ],
      "execution_count": null,
      "outputs": []
    },
    {
      "cell_type": "code",
      "metadata": {
        "id": "5f-9VvUOyJK9",
        "colab_type": "code",
        "colab": {}
      },
      "source": [
        "# titles = test['song_id']\n",
        "# indices = pd.Series(test.index, index=test['song_id'])"
      ],
      "execution_count": null,
      "outputs": []
    },
    {
      "cell_type": "code",
      "metadata": {
        "id": "46AGPHS1yKQO",
        "colab_type": "code",
        "colab": {}
      },
      "source": [
        "# def get_recommendations(song_id) :\n",
        "#     idx = indices[song_id]\n",
        "#     select = test[test['song_id'] == song_id]\n",
        "#     sim_scores = list(enumerate(cosine_sim[idx]))\n",
        "#     sim_scores = sorted(sim_scores, key=lambda x: x[1], reverse=True)\n",
        "#     sim_scores = sim_scores[1:31]\n",
        "#     song_indices = [i[0] for i in sim_scores]\n",
        "#     print(test.iloc[song_indices][['song_id']].head(30))\n",
        "#     print('\\n\\n')"
      ],
      "execution_count": null,
      "outputs": []
    },
    {
      "cell_type": "code",
      "metadata": {
        "id": "YazVSxf1yNGO",
        "colab_type": "code",
        "colab": {}
      },
      "source": [
        "# get_recommendations('144663')"
      ],
      "execution_count": null,
      "outputs": []
    },
    {
      "cell_type": "code",
      "metadata": {
        "id": "65ACsiz8ySlJ",
        "colab_type": "code",
        "colab": {}
      },
      "source": [
        ""
      ],
      "execution_count": null,
      "outputs": []
    }
  ]
}